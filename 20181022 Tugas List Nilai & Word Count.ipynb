{
 "cells": [
  {
   "cell_type": "markdown",
   "metadata": {},
   "source": [
    "# NILAI TUGAS"
   ]
  },
  {
   "cell_type": "code",
   "execution_count": 90,
   "metadata": {
    "scrolled": true
   },
   "outputs": [
    {
     "name": "stdout",
     "output_type": "stream",
     "text": [
      "DAFTAR NILAI TUGAS DARI 250 Mahasiswa:\n",
      "[98, 11, 87, 92, 51, 68, 68, 26, 18, 96, 68, 29, 37, 56, 76, 70, 73, 5, 40, 27, 29, 93, 35, 41, 82, 36, 8, 68, 60, 29, 92, 78, 20, 36, 38, 86, 14, 26, 11, 38, 99, 28, 41, 10, 35, 56, 14, 11, 59, 45, 54, 83, 4, 77, 86, 76, 86, 85, 19, 71, 17, 36, 26, 13, 80, 99, 81, 34, 22, 12, 65, 59, 30, 9, 93, 16, 68, 96, 23, 97, 53, 27, 79, 32, 71, 27, 68, 25, 45, 60, 97, 65, 82, 84, 8, 49, 15, 27, 90, 51, 45, 47, 67, 95, 62, 75, 55, 13, 30, 48, 83, 58, 90, 64, 66, 45, 2, 36, 79, 64, 65, 85, 8, 88, 85, 85, 63, 29, 71, 43, 37, 91, 37, 30, 17, 14, 72, 18, 34, 64, 92, 13, 53, 30, 80, 57, 42, 89, 38, 18, 34, 63, 15, 3, 85, 85, 79, 9, 10, 29, 49, 18, 12, 78, 44, 10, 69, 31, 65, 39, 17, 78, 2, 11, 56, 74, 60, 13, 82, 12, 13, 43, 90, 79, 76, 48, 37, 57, 34, 28, 23, 83, 66, 20, 54, 75, 24, 55, 28, 51, 81, 60, 55, 48, 87, 59, 90, 53, 97, 72, 33, 89, 62, 63, 41, 9, 61, 13, 64, 30, 46, 41, 78, 5, 52, 15, 28, 29, 67, 99, 93, 41, 44, 12, 72, 29, 61, 88, 96, 76, 64, 55, 8, 32, 46, 47, 83, 8, 10, 89]\n",
      "\n",
      "============\n"
     ]
    }
   ],
   "source": [
    "import random\n",
    "\n",
    "# GENERATE RANDOM\n",
    "nilaiTugas = []\n",
    "for i in range(250):\n",
    "    nilaiTugas.append(random.randrange(1,100,1))\n",
    "print (\"DAFTAR NILAI TUGAS DARI 250 Mahasiswa:\")\n",
    "print(nilaiTugas)\n",
    "print ( )\n",
    "print (\"============\")\n",
    "\n",
    "#AKAN DITAMPILKAN:\n",
    "# ganjil\n",
    "# nilai > 70\n",
    "# standar deviasi\n",
    "# maksimum\n",
    "# minimum\n",
    "# modus"
   ]
  },
  {
   "cell_type": "code",
   "execution_count": 91,
   "metadata": {},
   "outputs": [
    {
     "name": "stdout",
     "output_type": "stream",
     "text": [
      "Nilai Tugas dengan Bilangan Ganjil:\n",
      "[11, 87, 51, 29, 37, 73, 5, 27, 29, 93, 35, 41, 29, 11, 99, 41, 35, 11, 59, 45, 83, 77, 85, 19, 71, 17, 13, 99, 81, 65, 59, 9, 93, 23, 97, 53, 27, 79, 71, 27, 25, 45, 97, 65, 49, 15, 27, 51, 45, 47, 67, 95, 75, 55, 13, 83, 45, 79, 65, 85, 85, 85, 63, 29, 71, 43, 37, 91, 37, 17, 13, 53, 57, 89, 63, 15, 3, 85, 85, 79, 9, 29, 49, 69, 31, 65, 39, 17, 11, 13, 13, 43, 79, 37, 57, 23, 83, 75, 55, 51, 81, 55, 87, 59, 53, 97, 33, 89, 63, 41, 9, 61, 13, 41, 5, 15, 29, 67, 99, 93, 41, 29, 61, 55, 47, 83, 89]\n",
      "\n",
      "============\n"
     ]
    }
   ],
   "source": [
    "#ganjil  (g)\n",
    "print (\"Nilai Tugas dengan Bilangan Ganjil:\")\n",
    "ganjil = []\n",
    "for g in nilaiTugas:\n",
    "    if g%2==1:\n",
    "        ganjil.append(g)\n",
    "print (ganjil)\n",
    "print ( )\n",
    "print (\"============\")"
   ]
  },
  {
   "cell_type": "code",
   "execution_count": 92,
   "metadata": {},
   "outputs": [
    {
     "name": "stdout",
     "output_type": "stream",
     "text": [
      "Nilai > 70\n",
      "*Ada Sebanyak 89 Nilai Tugas > 70\n",
      "*Nilai Tugas > 70 tersebut adalah [98, 87, 92, 96, 76, 73, 93, 82, 92, 78, 86, 99, 83, 77, 86, 76, 86, 85, 71, 80, 99, 81, 93, 96, 97, 79, 71, 97, 82, 84, 90, 95, 75, 83, 90, 79, 85, 88, 85, 85, 71, 91, 72, 92, 80, 89, 85, 85, 79, 78, 78, 74, 82, 90, 79, 76, 83, 75, 81, 87, 90, 97, 72, 89, 78, 99, 93, 72, 88, 96, 76, 83, 89]\n",
      "\n",
      "============\n"
     ]
    }
   ],
   "source": [
    "#nilai > 70 (t)\n",
    "print (\"Nilai > 70\")\n",
    "diatas = []\n",
    "for t in nilaiTugas:\n",
    "    if t>70:\n",
    "        diatas.append(t)\n",
    "print (\"*Ada Sebanyak\", t, \"Nilai Tugas > 70\")\n",
    "print (\"*Nilai Tugas > 70 tersebut adalah\", diatas)\n",
    "        \n",
    "print ( )\n",
    "print (\"============\")"
   ]
  },
  {
   "cell_type": "code",
   "execution_count": 93,
   "metadata": {},
   "outputs": [
    {
     "name": "stdout",
     "output_type": "stream",
     "text": [
      "Standar Deviasi =\n",
      "5.628854235099715\n",
      "\n",
      "============\n"
     ]
    }
   ],
   "source": [
    "#standar deviasi (sd)\n",
    "print (\"Standar Deviasi =\")\n",
    "banyakdata = 250  #Dari soal diketahui banyak data = 250\n",
    "\n",
    "for n in nilaiTugas:\n",
    "    sum_x= n\n",
    "    sum_x_kuadrat= (n**2)\n",
    "sd=((banyakdata*sum_x_kuadrat-(sum_x**2))/(banyakdata*(banyakdata-1)))**(1/2)\n",
    "print(sd)\n",
    "print ( )\n",
    "print (\"============\")"
   ]
  },
  {
   "cell_type": "code",
   "execution_count": 94,
   "metadata": {},
   "outputs": [
    {
     "name": "stdout",
     "output_type": "stream",
     "text": [
      "Nilai Tugas Tertinggi Adalah\n",
      "99\n",
      "\n",
      "============\n"
     ]
    }
   ],
   "source": [
    "#maksimum (maks)\n",
    "print (\"Nilai Tugas Tertinggi Adalah\")\n",
    "maks=0\n",
    "for n in nilaiTugas:\n",
    "    if n>maks:\n",
    "        maks=n\n",
    "print (maks)\n",
    "print ( )\n",
    "print (\"============\")  "
   ]
  },
  {
   "cell_type": "code",
   "execution_count": 95,
   "metadata": {},
   "outputs": [
    {
     "name": "stdout",
     "output_type": "stream",
     "text": [
      "Nilai Tugas Terendah Adalah\n",
      "2\n",
      "\n",
      "============\n"
     ]
    }
   ],
   "source": [
    "#minimum (min)\n",
    "print (\"Nilai Tugas Terendah Adalah\")\n",
    "min=100\n",
    "for n in nilaiTugas:\n",
    "    if n<min:\n",
    "        min=n\n",
    "print (min)\n",
    "print ( )\n",
    "print (\"============\")  "
   ]
  },
  {
   "cell_type": "code",
   "execution_count": 96,
   "metadata": {},
   "outputs": [
    {
     "name": "stdout",
     "output_type": "stream",
     "text": [
      "Nilai Modus Adalah\n",
      "29\n",
      "\n",
      "============\n"
     ]
    }
   ],
   "source": [
    "#modus\n",
    "print (\"Nilai Modus Adalah\")\n",
    "maksimal=0\n",
    "modus={}\n",
    "for i in nilaiTugas:\n",
    "    count= nilaiTugas.count(i)\n",
    "    modus.update({i:count})\n",
    "\n",
    "for key in modus:\n",
    "    if modus[key]>maksimal:\n",
    "        maksimal=modus[key]\n",
    "\n",
    "for key in modus:\n",
    "    if modus[key]==maksimal:\n",
    "        print(key)\n",
    "\n",
    "print ( )\n",
    "print (\"============\")  "
   ]
  },
  {
   "cell_type": "markdown",
   "metadata": {},
   "source": [
    "# WORD COUNT"
   ]
  },
  {
   "cell_type": "code",
   "execution_count": 97,
   "metadata": {},
   "outputs": [
    {
     "name": "stdout",
     "output_type": "stream",
     "text": [
      "PARAGRAFNYA ADALAH\n",
      "Barcelona berhasil merebut posisi puncak klasemen La Liga Spanyol seusai menang 4-2 atas Sevilla pada pertandingan pekan kesembilan di Stadion Camp Nou, Sabtu (20/10/2018) atau Minggu dini hari WIB. Barcelona membuka keunggulan pada menit ke-2 melalui gol yang dicetak oleh Philippe Coutinho. Lionel Messi menggandakan keunggulan Barcelona, 10 menit berselang.  Namun, nahas bagi Barcelona, karena Messi harus ditarik keluar pada menit ke-26 setelah mengalami cedera. Tanpa Messi, skor 2-0 bertahan hingga babak pertama berakhir.\n",
      "\n",
      "Banyak Kemunculan Tiap Kata Adalah\n",
      "\n",
      " {'Barcelona': 4, 'berhasil': 1, 'merebut': 1, 'posisi': 1, 'puncak': 1, 'klasemen': 1, 'La': 1, 'Liga': 1, 'Spanyol': 1, 'seusai': 1, 'menang': 1, '42': 1, 'atas': 1, 'Sevilla': 1, 'pada': 3, 'pertandingan': 1, 'pekan': 1, 'kesembilan': 1, 'di': 1, 'Stadion': 1, 'Camp': 1, 'Nou': 1, 'Sabtu': 1, '20102018': 1, 'atau': 1, 'Minggu': 1, 'dini': 1, 'hari': 1, 'WIB': 1, 'membuka': 1, 'keunggulan': 2, 'menit': 3, 'ke2': 1, 'melalui': 1, 'gol': 1, 'yang': 1, 'dicetak': 1, 'oleh': 1, 'Philippe': 1, 'Coutinho': 1, 'Lionel': 1, 'Messi': 3, 'menggandakan': 1, '10': 1, 'berselang': 1, '': 1, 'Namun': 1, 'nahas': 1, 'bagi': 1, 'karena': 1, 'harus': 1, 'ditarik': 1, 'keluar': 1, 'ke26': 1, 'setelah': 1, 'mengalami': 1, 'cedera': 1, 'Tanpa': 1, 'skor': 1, '20': 1, 'bertahan': 1, 'hingga': 1, 'babak': 1, 'pertama': 1, 'berakhir': 1}\n",
      "\n",
      "============\n"
     ]
    }
   ],
   "source": [
    "#word count\n",
    "paragraf = \"Barcelona berhasil merebut posisi puncak klasemen La Liga Spanyol seusai menang 4-2 atas Sevilla pada pertandingan pekan kesembilan di Stadion Camp Nou, Sabtu (20/10/2018) atau Minggu dini hari WIB. Barcelona membuka keunggulan pada menit ke-2 melalui gol yang dicetak oleh Philippe Coutinho. Lionel Messi menggandakan keunggulan Barcelona, 10 menit berselang.  Namun, nahas bagi Barcelona, karena Messi harus ditarik keluar pada menit ke-26 setelah mengalami cedera. Tanpa Messi, skor 2-0 bertahan hingga babak pertama berakhir.\"\n",
    "print (\"PARAGRAFNYA ADALAH\")\n",
    "print (paragraf)\n",
    "\n",
    "paragraf = paragraf.replace('.', '')\n",
    "paragraf = paragraf.replace('-', '')\n",
    "paragraf = paragraf.replace('(', '')\n",
    "paragraf = paragraf.replace(')', '')\n",
    "paragraf = paragraf.replace('/', '')\n",
    "paragraf = paragraf.replace(',', '')\n",
    "\n",
    "\n",
    "kata = paragraf.split(\" \")\n",
    "# for key,i in enumerate(kata):\n",
    "#     print(key,i)\n",
    "\n",
    "count = dict()\n",
    "for i in kata:\n",
    "    if i in count:\n",
    "        count[i]=count[i]+1\n",
    "    else:\n",
    "        count[i]=1\n",
    "print ( )\n",
    "print (\"Banyak Kemunculan Tiap Kata Adalah\")\n",
    "print('\\n',count)\n",
    "\n",
    "print ( )\n",
    "print (\"============\")"
   ]
  }
 ],
 "metadata": {
  "kernelspec": {
   "display_name": "Python 3",
   "language": "python",
   "name": "python3"
  },
  "language_info": {
   "codemirror_mode": {
    "name": "ipython",
    "version": 3
   },
   "file_extension": ".py",
   "mimetype": "text/x-python",
   "name": "python",
   "nbconvert_exporter": "python",
   "pygments_lexer": "ipython3",
   "version": "3.7.0"
  }
 },
 "nbformat": 4,
 "nbformat_minor": 2
}
