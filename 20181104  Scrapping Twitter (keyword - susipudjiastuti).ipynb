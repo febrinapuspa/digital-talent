{
 "cells": [
  {
   "cell_type": "code",
   "execution_count": 17,
   "metadata": {},
   "outputs": [],
   "source": [
    "from twython import Twython\n",
    "import pandas as pd"
   ]
  },
  {
   "cell_type": "code",
   "execution_count": 18,
   "metadata": {},
   "outputs": [],
   "source": [
    "#Log in Twitter API\n",
    "TWITTER_APP_KEY = \"bgAsjeaOjDhijVVNj0CKvmXd1\"\n",
    "TWITTER_APP_KEY_SECRET = \"i4ogIK1Pw0sHtPMve71JgzONGGz5osFNoKELQ31QmXdJZK6CJF\"\n",
    "TWITTER_ACCESS_TOKEN = \"946009581813039106-1p9P45cWrcjhgugctlTA48VzkxkoKxT\"\n",
    "TWITTER_ACCESS_TOKEN_SECRET = \"CXF8ijxLrF4T9KHXsNR8XhJx77uKARW9KGS0PtrOeYa4j\"\n",
    "\n",
    "t = Twython(app_key=TWITTER_APP_KEY, \n",
    "            app_secret=TWITTER_APP_KEY_SECRET, \n",
    "            oauth_token=TWITTER_ACCESS_TOKEN, \n",
    "            oauth_token_secret=TWITTER_ACCESS_TOKEN_SECRET)\n"
   ]
  },
  {
   "cell_type": "code",
   "execution_count": 19,
   "metadata": {},
   "outputs": [],
   "source": [
    "#Query\n",
    "term = 'susipudjiastuti'\n",
    "tweet_metadatas = t.search(q=term,count=100,result_type='recent',lang='id')\n",
    "\n",
    "#Scrapping\n",
    "data_list = []\n",
    "for tweet in tweet_metadatas['statuses']:\n",
    "    meta = dict()\n",
    "    meta['tweet'] = tweet['text']\n",
    "    meta['timestamp'] = tweet['created_at']\n",
    "    meta['username'] = tweet['user']['screen_name']\n",
    "    \n",
    "    data_list.append(meta)\n",
    "    "
   ]
  },
  {
   "cell_type": "code",
   "execution_count": 20,
   "metadata": {},
   "outputs": [
    {
     "data": {
      "text/html": [
       "<div>\n",
       "<style scoped>\n",
       "    .dataframe tbody tr th:only-of-type {\n",
       "        vertical-align: middle;\n",
       "    }\n",
       "\n",
       "    .dataframe tbody tr th {\n",
       "        vertical-align: top;\n",
       "    }\n",
       "\n",
       "    .dataframe thead th {\n",
       "        text-align: right;\n",
       "    }\n",
       "</style>\n",
       "<table border=\"1\" class=\"dataframe\">\n",
       "  <thead>\n",
       "    <tr style=\"text-align: right;\">\n",
       "      <th></th>\n",
       "      <th>timestamp</th>\n",
       "      <th>tweet</th>\n",
       "      <th>username</th>\n",
       "    </tr>\n",
       "  </thead>\n",
       "  <tbody>\n",
       "    <tr>\n",
       "      <th>0</th>\n",
       "      <td>Sun Nov 04 03:54:12 +0000 2018</td>\n",
       "      <td>@NitaSellya @susipudjiastuti ❤❤ titip salam &amp;a...</td>\n",
       "      <td>thiyut</td>\n",
       "    </tr>\n",
       "    <tr>\n",
       "      <th>1</th>\n",
       "      <td>Sun Nov 04 03:54:03 +0000 2018</td>\n",
       "      <td>RT @ndorokakung: Senang melihat aktivitas sant...</td>\n",
       "      <td>ARatnashary</td>\n",
       "    </tr>\n",
       "    <tr>\n",
       "      <th>2</th>\n",
       "      <td>Sun Nov 04 03:53:58 +0000 2018</td>\n",
       "      <td>@Aryprasetyo85 @susipudjiastuti @enylove2 @FaG...</td>\n",
       "      <td>EAndesla</td>\n",
       "    </tr>\n",
       "    <tr>\n",
       "      <th>3</th>\n",
       "      <td>Sun Nov 04 03:53:46 +0000 2018</td>\n",
       "      <td>RT @kumparan: Hari ini perjalanan akan ditutup...</td>\n",
       "      <td>FoldDana</td>\n",
       "    </tr>\n",
       "    <tr>\n",
       "      <th>4</th>\n",
       "      <td>Sun Nov 04 03:53:25 +0000 2018</td>\n",
       "      <td>RT @Rais56482946: Sy suka banget motif baju.y ...</td>\n",
       "      <td>gistrong</td>\n",
       "    </tr>\n",
       "  </tbody>\n",
       "</table>\n",
       "</div>"
      ],
      "text/plain": [
       "                        timestamp  \\\n",
       "0  Sun Nov 04 03:54:12 +0000 2018   \n",
       "1  Sun Nov 04 03:54:03 +0000 2018   \n",
       "2  Sun Nov 04 03:53:58 +0000 2018   \n",
       "3  Sun Nov 04 03:53:46 +0000 2018   \n",
       "4  Sun Nov 04 03:53:25 +0000 2018   \n",
       "\n",
       "                                               tweet     username  \n",
       "0  @NitaSellya @susipudjiastuti ❤❤ titip salam &a...       thiyut  \n",
       "1  RT @ndorokakung: Senang melihat aktivitas sant...  ARatnashary  \n",
       "2  @Aryprasetyo85 @susipudjiastuti @enylove2 @FaG...     EAndesla  \n",
       "3  RT @kumparan: Hari ini perjalanan akan ditutup...     FoldDana  \n",
       "4  RT @Rais56482946: Sy suka banget motif baju.y ...     gistrong  "
      ]
     },
     "execution_count": 20,
     "metadata": {},
     "output_type": "execute_result"
    }
   ],
   "source": [
    "#Visual\n",
    "data = pd.DataFrame(data_list)\n",
    "data.head()"
   ]
  },
  {
   "cell_type": "code",
   "execution_count": 21,
   "metadata": {},
   "outputs": [],
   "source": [
    "#Export\n",
    "writer = pd.ExcelWriter('result.xlsx')\n",
    "data.to_excel(writer,'Sheet1',index=False)\n",
    "writer.save()"
   ]
  },
  {
   "cell_type": "code",
   "execution_count": null,
   "metadata": {},
   "outputs": [],
   "source": []
  }
 ],
 "metadata": {
  "kernelspec": {
   "display_name": "Python 3",
   "language": "python",
   "name": "python3"
  },
  "language_info": {
   "codemirror_mode": {
    "name": "ipython",
    "version": 3
   },
   "file_extension": ".py",
   "mimetype": "text/x-python",
   "name": "python",
   "nbconvert_exporter": "python",
   "pygments_lexer": "ipython3",
   "version": "3.7.0"
  }
 },
 "nbformat": 4,
 "nbformat_minor": 2
}
