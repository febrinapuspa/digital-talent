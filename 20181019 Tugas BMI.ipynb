{
 "cells": [
  {
   "cell_type": "code",
   "execution_count": 39,
   "metadata": {},
   "outputs": [
    {
     "name": "stdout",
     "output_type": "stream",
     "text": [
      "Berat Badan Anda = 50 kg\n",
      "Tinggi Badan Anda = 155 cm = 1.55 m\n",
      "Nilai Indeks BMI Anda = 20.811654526534856 kgm^2\n",
      "Kategori BMI Anda adalah NORMAL (HEALTHY WEIGHT)\n",
      " \n",
      "-- DONE --\n",
      "Jagalah Kesehatan Tubuh, dengan Pola Hidup Sehat\n",
      "Terima Kasih\n"
     ]
    }
   ],
   "source": [
    "#Input Berat dan Tinggi Badan (satuan kg dan cm)\n",
    "weight = berat = b = 50 #(kg)\n",
    "height = tinggi = t = 155 #(cm)\n",
    "\n",
    "#Konversi ke Tinggi Badan standar Body Mass Index (BMI)\n",
    "tinggi_BMI = tB = (tinggi/100) #(m)\n",
    "\n",
    "print (\"Berat Badan Anda =\", b, \"kg\")\n",
    "print (\"Tinggi Badan Anda =\", t, \"cm\", \"=\", tB, \"m\")\n",
    "\n",
    "\n",
    "#Perhitungan Keidealan Badan Berdasarkan Body Mass Index (BMI)\n",
    "#Rumus BMI = weight (kg) x height^2 (m2) = b x (tB)^2\n",
    "BMI = b / (tB**2) #(kg m^2)\n",
    "\n",
    "print (\"Nilai Indeks BMI Anda =\", BMI, \"kgm^2\")\n",
    "\n",
    "#Kategorisasi Body Mass Index (BMI)\n",
    "BMI = b / (tB**2)\n",
    "if BMI < 15:\n",
    "    print (\"Kategori BMI Anda adalah\", \"VERY SEVERELY UNDERWEIGHT\")\n",
    "elif 15 < BMI < 16:\n",
    "    print (\"Kategori BMI Anda adalah\", \"SEVERELY UNDERWEIGHT\")\n",
    "elif 16 < BMI < 18.5:\n",
    "    print (\"Kategori BMI Anda adalah\", \"UNDERWEIGHT\")\n",
    "elif 18.5 < BMI < 25:\n",
    "    print (\"Kategori BMI Anda adalah\", \"NORMAL (HEALTHY WEIGHT)\")\n",
    "elif 25 < BMI < 30:\n",
    "    print (\"Kategori BMI Anda adalah\", \"OVERWEIGHT\")\n",
    "elif 30 < BMI < 35:\n",
    "    print (\"Kategori BMI Anda adalah\", \"SEVERELY OBESE\")\n",
    "elif 35 < BMI < 40:\n",
    "    print (\"Kategori BMI Anda adalah\", \"SEVERELY OBESE\")\n",
    "elif BMI > 40:\n",
    "    print (\"Kategori BMI Anda adalah\", \"SEVERELY OBESE\")\n",
    "\n",
    "print (\" \")\n",
    "print (\"-- DONE --\")\n",
    "print (\"Jagalah Kesehatan Tubuh, dengan Pola Hidup Sehat\")\n",
    "print (\"Terima Kasih\")"
   ]
  },
  {
   "cell_type": "code",
   "execution_count": null,
   "metadata": {},
   "outputs": [],
   "source": []
  }
 ],
 "metadata": {
  "kernelspec": {
   "display_name": "Python 3",
   "language": "python",
   "name": "python3"
  },
  "language_info": {
   "codemirror_mode": {
    "name": "ipython",
    "version": 3
   },
   "file_extension": ".py",
   "mimetype": "text/x-python",
   "name": "python",
   "nbconvert_exporter": "python",
   "pygments_lexer": "ipython3",
   "version": "3.7.0"
  }
 },
 "nbformat": 4,
 "nbformat_minor": 2
}
